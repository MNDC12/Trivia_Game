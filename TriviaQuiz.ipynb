{
  "nbformat": 4,
  "nbformat_minor": 0,
  "metadata": {
    "colab": {
      "name": "Trivia Game.ipynb",
      "provenance": []
    },
    "kernelspec": {
      "name": "python3",
      "display_name": "Python 3"
    }
  },
  "cells": [
    {
      "cell_type": "code",
      "metadata": {
        "id": "AI_fETdVJTaq",
        "colab_type": "code",
        "colab": {}
      },
      "source": [
        "\"\"\"\n",
        "Created on Tue Sep 22 09:41:14 2020\n",
        "Last Edit on Tue Sep 22\n",
        "@author: Mary PC\n",
        "Objective: Trivia Quiz\n",
        "\"\"\"\n",
        "from random import choice\n",
        "\n",
        "quest_ans = {'woody':'What is the name of the toy cowboy in Toy Story? ',\n",
        "       'september':'What month are we in? ',\n",
        "       'earth':'What is the 3rd planet from the sun? ',\n",
        "       'd':'What is the 4th letter of the alphabet? ',\n",
        "       'kitten':'What do you call a baby cat? ',\n",
        "       'luzon':'What is the largest island in the Philippines? ',\n",
        "       'bat':'What animal is batman inspired from? ',\n",
        "       'butterfly':'What does a caterpillar turn into? ',\n",
        "       'paris':'In which capital city, would you find the Eiffel Tower? ',\n",
        "       'hydrogen':'What does H in the periodic table stands for? ',\n",
        "       }\n",
        "\n",
        "exclaim = {'right':['Wow! You got it correct!',\n",
        "                      'You are awesome! Your answer is correct.',\n",
        "                      'Amazing! You\\'re correct!',\n",
        "                      'You are doing great! Keep it up!',\n",
        "                      'You\\'re correct! You\\'re doing a good job!'],\n",
        "           'wrong':['Sad. You are wrong.',\n",
        "                    'You are wrong but that is okay!',\n",
        "                    'Aww. It is wrong!',\n",
        "                    'Your answer is not correct.',\n",
        "                    'This is wrong but it\\'s fine!'],\n",
        "           }"
      ],
      "execution_count": 2,
      "outputs": []
    },
    {
      "cell_type": "code",
      "metadata": {
        "id": "IK9Bmjl3pQWC",
        "colab_type": "code",
        "colab": {}
      },
      "source": [
        "def check(ask):\n",
        "    ans = input(ask).title()\n",
        "    while ans not in ['Yes','No']:\n",
        "        print('Hmm. Something is wrong. Check your spelling!')\n",
        "        print('Here, try again.') \n",
        "        ans = input(ask).title()\n",
        "    return ans\n",
        "\n",
        "def game(Quest_Ans=quest_ans, Exclaim=exclaim, score = 0): \n",
        "    print('\\nWelcome to the Ultimate Trivia Game!')\n",
        "    print('Can you answer all 10 of these super easy trivia questions?')  \n",
        "    \n",
        "    ready = check('Are you ready (\\'Yes\\' or \\'No\\')? ')\n",
        "    if ready == 'No': return print('Okay! See you later~')\n",
        "    print('Let us begin!')\n",
        "    \n",
        "    for correct in Quest_Ans:\n",
        "        answer = input(Quest_Ans[correct]).lower()\n",
        "        if answer == correct: \n",
        "            print(choice(Exclaim['right'])); score += 1\n",
        "        else: print(choice(Exclaim['wrong']))    \n",
        "    \n",
        "    total = len(Quest_Ans)\n",
        "    print('\\nYou answered %d out of %d questions correct.'%(score,total))\n",
        "    if score <= (total/2): print('You failed but that\\'s okay.')\n",
        "    elif score == total: print('Wow! You got a perfect score!')\n",
        "    else: print('Nice. You did a good job!')    \n",
        "    \n",
        "    again = check('Do you want to try again (\\'Yes\\' or \\'No\\')? ')\n",
        "    if again == 'Yes': return game()\n",
        "    print('Okay! Thank you for answering~')   "
      ],
      "execution_count": 5,
      "outputs": []
    }
  ]
}